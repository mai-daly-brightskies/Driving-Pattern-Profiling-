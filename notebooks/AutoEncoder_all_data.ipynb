{
  "cells": [
    {
      "cell_type": "code",
      "execution_count": null,
      "metadata": {
        "id": "0dibVzJWObO4"
      },
      "outputs": [],
      "source": [
        "import torch\n",
        "import torch.nn as nn\n",
        "import torch.optim as optim\n",
        "import numpy as np\n",
        "import pandas as pd\n",
        "from torch.utils.data import Dataset, DataLoader, ConcatDataset\n"
      ]
    },
    {
      "cell_type": "code",
      "source": [
        "device = \"cuda\" if torch.cuda.is_available else \"cpu\""
      ],
      "metadata": {
        "id": "WPCtnlGWW3pC"
      },
      "execution_count": null,
      "outputs": []
    },
    {
      "cell_type": "code",
      "source": [
        "from google.colab import drive\n",
        "drive.mount('/content/drive')"
      ],
      "metadata": {
        "colab": {
          "base_uri": "https://localhost:8080/"
        },
        "id": "z_e5ayefWgs1",
        "outputId": "e1b25000-e1a0-40aa-884b-4282199ee80a"
      },
      "execution_count": null,
      "outputs": [
        {
          "output_type": "stream",
          "name": "stdout",
          "text": [
            "Drive already mounted at /content/drive; to attempt to forcibly remount, call drive.mount(\"/content/drive\", force_remount=True).\n"
          ]
        }
      ]
    },
    {
      "cell_type": "code",
      "execution_count": null,
      "metadata": {
        "id": "krwVGfgsObPA"
      },
      "outputs": [],
      "source": [
        "# train_data = pd.read_csv(\"../data/preprocessed/preprocessed_train.csv\")\n",
        "# test_data = pd.read_csv(\"../data/preprocessed/preprocessed_test.csv\")"
      ]
    },
    {
      "cell_type": "code",
      "source": [
        "import numpy as np\n",
        "import pandas as pd\n",
        "import matplotlib.pyplot as plt\n",
        "from sklearn.ensemble import RandomForestClassifier\n",
        "import warnings\n",
        "\n",
        "warnings.filterwarnings(\"ignore\")\n",
        "pd.set_option('display.max_columns', None)"
      ],
      "metadata": {
        "id": "IF0hhV_oOkR-"
      },
      "execution_count": null,
      "outputs": []
    },
    {
      "cell_type": "code",
      "source": [
        "def driver_dataframe(df, path_order, driver):\n",
        "    \"\"\"\n",
        "    Extracts and processes the DataFrame for a specific driver and path order.\n",
        "\n",
        "    Parameters:\n",
        "    df (DataFrame): The original DataFrame.\n",
        "    path_order (int): The path order identifier.\n",
        "    driver (str): The driver class identifier.\n",
        "\n",
        "    Returns:\n",
        "    DataFrame: Processed DataFrame for the specified driver and path order.\n",
        "    \"\"\"\n",
        "    driver_df = df[df['PathOrder'] == path_order]\n",
        "    driver_df = driver_df[driver_df['Class'] == driver]\n",
        "    driver_df = driver_df.sort_values(by='Time(s)')\n",
        "    driver_df.drop(columns=['Class', 'PathOrder'], inplace=True)\n",
        "    driver_df = driver_df.groupby('Time(s)').mean()\n",
        "    driver_df['Time(s)'] = driver_df.index\n",
        "    return driver_df"
      ],
      "metadata": {
        "id": "rt58X4OdOmIh"
      },
      "execution_count": null,
      "outputs": []
    },
    {
      "cell_type": "code",
      "source": [
        "def split_dataset(df, train_ratio=0.8, random_seed=123):\n",
        "    \"\"\"\n",
        "    Splits the dataset into training and testing sets based on driver and path order.\n",
        "\n",
        "    Parameters:\n",
        "    df (DataFrame): The original DataFrame.\n",
        "    train_ratio (float): Ratio of the dataset to be used for training. Default is 0.8.\n",
        "    random_seed (int): Seed for random number generator. Default is 123.\n",
        "\n",
        "    Returns:\n",
        "    DataFrame: Training set.\n",
        "    DataFrame: Testing set.\n",
        "    \"\"\"\n",
        "\n",
        "    # set a random seed\n",
        "    np.random.seed(random_seed)\n",
        "\n",
        "    # create a copy of dataframe\n",
        "    df_copy = df.copy()\n",
        "\n",
        "    # Lists to hold individual DataFrames\n",
        "    df_train = []\n",
        "    df_test = []\n",
        "\n",
        "    # Nested loops to process each path and driver\n",
        "    for path in df_copy['PathOrder'].unique():\n",
        "        for driver in df_copy['Class'].unique():\n",
        "            driver_df = driver_dataframe(df_copy, path, driver)\n",
        "            driver_df['PathOrder'] = path  # Add PathOrder\n",
        "            driver_df['Class'] = driver    # Add Class\n",
        "\n",
        "            # Calculate the index to split the data\n",
        "            split_index = int(train_ratio * len(driver_df))\n",
        "\n",
        "            # Split the data\n",
        "            df_train_split = driver_df.iloc[:split_index]\n",
        "            df_test_split = driver_df.iloc[split_index:]\n",
        "\n",
        "            # Append the data to df_train and df_test lists\n",
        "            df_train.append(df_train_split)\n",
        "            df_test.append(df_test_split)\n",
        "\n",
        "    # Concatenate the DataFrames\n",
        "    df_train = pd.concat(df_train, ignore_index=True)\n",
        "    df_test = pd.concat(df_test, ignore_index=True)\n",
        "\n",
        "    return df_train, df_test"
      ],
      "metadata": {
        "id": "cr6zh0OlOssA"
      },
      "execution_count": null,
      "outputs": []
    },
    {
      "cell_type": "code",
      "execution_count": null,
      "metadata": {
        "id": "07946988"
      },
      "outputs": [],
      "source": [
        "selected_features = ['Engine_soacking_time', 'Long_Term_Fuel_Trim_Bank1', 'Engine_coolant_temperature.1',\n",
        " 'Torque_of_friction', 'Activation_of_Air_compressor', 'Intake_air_pressure', 'PathOrder', 'Accelerator_Pedal_value',\n",
        " 'Master_cylinder_pressure', 'Vehicle_speed','Engine_coolant_temperature', 'Maximum_indicated_engine_torque',\n",
        " 'Throttle_position_signal', 'Current_Gear', 'Calculated_LOAD_value', 'Engine_torque_after_correction',\n",
        " 'Engine_torque', 'Class', 'Time(s)']"
      ]
    },
    {
      "cell_type": "code",
      "execution_count": null,
      "metadata": {
        "id": "36a1b80c"
      },
      "outputs": [],
      "source": [
        "data = pd.read_csv(\"/content/drive/My Drive/graduation/Driving Data(KIA SOUL)_(150728-160714)_(10 Drivers_A-J).csv\")"
      ]
    },
    {
      "cell_type": "code",
      "execution_count": null,
      "metadata": {
        "id": "32efc868"
      },
      "outputs": [],
      "source": [
        "selected_df = data[selected_features]"
      ]
    },
    {
      "cell_type": "code",
      "execution_count": null,
      "metadata": {
        "id": "f7f5d546",
        "outputId": "e04701f2-4f50-4c84-b96d-5e4c3fc0a772",
        "colab": {
          "base_uri": "https://localhost:8080/",
          "height": 226
        }
      },
      "outputs": [
        {
          "output_type": "execute_result",
          "data": {
            "text/plain": [
              "   Engine_soacking_time  Long_Term_Fuel_Trim_Bank1  \\\n",
              "0                     3                       -0.8   \n",
              "1                     3                       -0.8   \n",
              "2                     3                       -0.8   \n",
              "3                     3                       -0.8   \n",
              "4                     3                       -0.8   \n",
              "\n",
              "   Engine_coolant_temperature.1  Torque_of_friction  \\\n",
              "0                            87                 9.0   \n",
              "1                            87                 7.8   \n",
              "2                            87                 7.4   \n",
              "3                            87                 6.6   \n",
              "4                            87                11.3   \n",
              "\n",
              "   Activation_of_Air_compressor  Intake_air_pressure  PathOrder  \\\n",
              "0                             0                   33          1   \n",
              "1                             0                   40          1   \n",
              "2                             0                   41          1   \n",
              "3                             0                   38          1   \n",
              "4                             1                   40          1   \n",
              "\n",
              "   Accelerator_Pedal_value  Master_cylinder_pressure  Vehicle_speed  \\\n",
              "0                      0.0                     325.5              0   \n",
              "1                      0.0                       0.9              0   \n",
              "2                      0.0                       0.9              0   \n",
              "3                      0.0                       0.9              0   \n",
              "4                      0.0                       0.9              0   \n",
              "\n",
              "   Engine_coolant_temperature  Maximum_indicated_engine_torque  \\\n",
              "0                          95                             58.2   \n",
              "1                          95                             53.9   \n",
              "2                          95                             53.1   \n",
              "3                          95                             53.1   \n",
              "4                          95                             53.5   \n",
              "\n",
              "   Throttle_position_signal  Current_Gear  Calculated_LOAD_value  \\\n",
              "0                       5.2             0                   23.9   \n",
              "1                       6.1             0                   30.6   \n",
              "2                       5.2             0                   31.8   \n",
              "3                       4.7             0                   29.0   \n",
              "4                       5.7             0                   30.2   \n",
              "\n",
              "   Engine_torque_after_correction  Engine_torque Class  Time(s)  \n",
              "0                             5.5            5.5     A        1  \n",
              "1                             7.0            7.0     A        2  \n",
              "2                             7.0            7.0     A        3  \n",
              "3                             7.0            7.0     A        4  \n",
              "4                             8.2            8.2     A        5  "
            ],
            "text/html": [
              "\n",
              "  <div id=\"df-1694638f-e66d-46a1-b230-bf862d49ed78\" class=\"colab-df-container\">\n",
              "    <div>\n",
              "<style scoped>\n",
              "    .dataframe tbody tr th:only-of-type {\n",
              "        vertical-align: middle;\n",
              "    }\n",
              "\n",
              "    .dataframe tbody tr th {\n",
              "        vertical-align: top;\n",
              "    }\n",
              "\n",
              "    .dataframe thead th {\n",
              "        text-align: right;\n",
              "    }\n",
              "</style>\n",
              "<table border=\"1\" class=\"dataframe\">\n",
              "  <thead>\n",
              "    <tr style=\"text-align: right;\">\n",
              "      <th></th>\n",
              "      <th>Engine_soacking_time</th>\n",
              "      <th>Long_Term_Fuel_Trim_Bank1</th>\n",
              "      <th>Engine_coolant_temperature.1</th>\n",
              "      <th>Torque_of_friction</th>\n",
              "      <th>Activation_of_Air_compressor</th>\n",
              "      <th>Intake_air_pressure</th>\n",
              "      <th>PathOrder</th>\n",
              "      <th>Accelerator_Pedal_value</th>\n",
              "      <th>Master_cylinder_pressure</th>\n",
              "      <th>Vehicle_speed</th>\n",
              "      <th>Engine_coolant_temperature</th>\n",
              "      <th>Maximum_indicated_engine_torque</th>\n",
              "      <th>Throttle_position_signal</th>\n",
              "      <th>Current_Gear</th>\n",
              "      <th>Calculated_LOAD_value</th>\n",
              "      <th>Engine_torque_after_correction</th>\n",
              "      <th>Engine_torque</th>\n",
              "      <th>Class</th>\n",
              "      <th>Time(s)</th>\n",
              "    </tr>\n",
              "  </thead>\n",
              "  <tbody>\n",
              "    <tr>\n",
              "      <th>0</th>\n",
              "      <td>3</td>\n",
              "      <td>-0.8</td>\n",
              "      <td>87</td>\n",
              "      <td>9.0</td>\n",
              "      <td>0</td>\n",
              "      <td>33</td>\n",
              "      <td>1</td>\n",
              "      <td>0.0</td>\n",
              "      <td>325.5</td>\n",
              "      <td>0</td>\n",
              "      <td>95</td>\n",
              "      <td>58.2</td>\n",
              "      <td>5.2</td>\n",
              "      <td>0</td>\n",
              "      <td>23.9</td>\n",
              "      <td>5.5</td>\n",
              "      <td>5.5</td>\n",
              "      <td>A</td>\n",
              "      <td>1</td>\n",
              "    </tr>\n",
              "    <tr>\n",
              "      <th>1</th>\n",
              "      <td>3</td>\n",
              "      <td>-0.8</td>\n",
              "      <td>87</td>\n",
              "      <td>7.8</td>\n",
              "      <td>0</td>\n",
              "      <td>40</td>\n",
              "      <td>1</td>\n",
              "      <td>0.0</td>\n",
              "      <td>0.9</td>\n",
              "      <td>0</td>\n",
              "      <td>95</td>\n",
              "      <td>53.9</td>\n",
              "      <td>6.1</td>\n",
              "      <td>0</td>\n",
              "      <td>30.6</td>\n",
              "      <td>7.0</td>\n",
              "      <td>7.0</td>\n",
              "      <td>A</td>\n",
              "      <td>2</td>\n",
              "    </tr>\n",
              "    <tr>\n",
              "      <th>2</th>\n",
              "      <td>3</td>\n",
              "      <td>-0.8</td>\n",
              "      <td>87</td>\n",
              "      <td>7.4</td>\n",
              "      <td>0</td>\n",
              "      <td>41</td>\n",
              "      <td>1</td>\n",
              "      <td>0.0</td>\n",
              "      <td>0.9</td>\n",
              "      <td>0</td>\n",
              "      <td>95</td>\n",
              "      <td>53.1</td>\n",
              "      <td>5.2</td>\n",
              "      <td>0</td>\n",
              "      <td>31.8</td>\n",
              "      <td>7.0</td>\n",
              "      <td>7.0</td>\n",
              "      <td>A</td>\n",
              "      <td>3</td>\n",
              "    </tr>\n",
              "    <tr>\n",
              "      <th>3</th>\n",
              "      <td>3</td>\n",
              "      <td>-0.8</td>\n",
              "      <td>87</td>\n",
              "      <td>6.6</td>\n",
              "      <td>0</td>\n",
              "      <td>38</td>\n",
              "      <td>1</td>\n",
              "      <td>0.0</td>\n",
              "      <td>0.9</td>\n",
              "      <td>0</td>\n",
              "      <td>95</td>\n",
              "      <td>53.1</td>\n",
              "      <td>4.7</td>\n",
              "      <td>0</td>\n",
              "      <td>29.0</td>\n",
              "      <td>7.0</td>\n",
              "      <td>7.0</td>\n",
              "      <td>A</td>\n",
              "      <td>4</td>\n",
              "    </tr>\n",
              "    <tr>\n",
              "      <th>4</th>\n",
              "      <td>3</td>\n",
              "      <td>-0.8</td>\n",
              "      <td>87</td>\n",
              "      <td>11.3</td>\n",
              "      <td>1</td>\n",
              "      <td>40</td>\n",
              "      <td>1</td>\n",
              "      <td>0.0</td>\n",
              "      <td>0.9</td>\n",
              "      <td>0</td>\n",
              "      <td>95</td>\n",
              "      <td>53.5</td>\n",
              "      <td>5.7</td>\n",
              "      <td>0</td>\n",
              "      <td>30.2</td>\n",
              "      <td>8.2</td>\n",
              "      <td>8.2</td>\n",
              "      <td>A</td>\n",
              "      <td>5</td>\n",
              "    </tr>\n",
              "  </tbody>\n",
              "</table>\n",
              "</div>\n",
              "    <div class=\"colab-df-buttons\">\n",
              "\n",
              "  <div class=\"colab-df-container\">\n",
              "    <button class=\"colab-df-convert\" onclick=\"convertToInteractive('df-1694638f-e66d-46a1-b230-bf862d49ed78')\"\n",
              "            title=\"Convert this dataframe to an interactive table.\"\n",
              "            style=\"display:none;\">\n",
              "\n",
              "  <svg xmlns=\"http://www.w3.org/2000/svg\" height=\"24px\" viewBox=\"0 -960 960 960\">\n",
              "    <path d=\"M120-120v-720h720v720H120Zm60-500h600v-160H180v160Zm220 220h160v-160H400v160Zm0 220h160v-160H400v160ZM180-400h160v-160H180v160Zm440 0h160v-160H620v160ZM180-180h160v-160H180v160Zm440 0h160v-160H620v160Z\"/>\n",
              "  </svg>\n",
              "    </button>\n",
              "\n",
              "  <style>\n",
              "    .colab-df-container {\n",
              "      display:flex;\n",
              "      gap: 12px;\n",
              "    }\n",
              "\n",
              "    .colab-df-convert {\n",
              "      background-color: #E8F0FE;\n",
              "      border: none;\n",
              "      border-radius: 50%;\n",
              "      cursor: pointer;\n",
              "      display: none;\n",
              "      fill: #1967D2;\n",
              "      height: 32px;\n",
              "      padding: 0 0 0 0;\n",
              "      width: 32px;\n",
              "    }\n",
              "\n",
              "    .colab-df-convert:hover {\n",
              "      background-color: #E2EBFA;\n",
              "      box-shadow: 0px 1px 2px rgba(60, 64, 67, 0.3), 0px 1px 3px 1px rgba(60, 64, 67, 0.15);\n",
              "      fill: #174EA6;\n",
              "    }\n",
              "\n",
              "    .colab-df-buttons div {\n",
              "      margin-bottom: 4px;\n",
              "    }\n",
              "\n",
              "    [theme=dark] .colab-df-convert {\n",
              "      background-color: #3B4455;\n",
              "      fill: #D2E3FC;\n",
              "    }\n",
              "\n",
              "    [theme=dark] .colab-df-convert:hover {\n",
              "      background-color: #434B5C;\n",
              "      box-shadow: 0px 1px 3px 1px rgba(0, 0, 0, 0.15);\n",
              "      filter: drop-shadow(0px 1px 2px rgba(0, 0, 0, 0.3));\n",
              "      fill: #FFFFFF;\n",
              "    }\n",
              "  </style>\n",
              "\n",
              "    <script>\n",
              "      const buttonEl =\n",
              "        document.querySelector('#df-1694638f-e66d-46a1-b230-bf862d49ed78 button.colab-df-convert');\n",
              "      buttonEl.style.display =\n",
              "        google.colab.kernel.accessAllowed ? 'block' : 'none';\n",
              "\n",
              "      async function convertToInteractive(key) {\n",
              "        const element = document.querySelector('#df-1694638f-e66d-46a1-b230-bf862d49ed78');\n",
              "        const dataTable =\n",
              "          await google.colab.kernel.invokeFunction('convertToInteractive',\n",
              "                                                    [key], {});\n",
              "        if (!dataTable) return;\n",
              "\n",
              "        const docLinkHtml = 'Like what you see? Visit the ' +\n",
              "          '<a target=\"_blank\" href=https://colab.research.google.com/notebooks/data_table.ipynb>data table notebook</a>'\n",
              "          + ' to learn more about interactive tables.';\n",
              "        element.innerHTML = '';\n",
              "        dataTable['output_type'] = 'display_data';\n",
              "        await google.colab.output.renderOutput(dataTable, element);\n",
              "        const docLink = document.createElement('div');\n",
              "        docLink.innerHTML = docLinkHtml;\n",
              "        element.appendChild(docLink);\n",
              "      }\n",
              "    </script>\n",
              "  </div>\n",
              "\n",
              "\n",
              "<div id=\"df-f26ace41-2cd6-4576-a307-3798d4964001\">\n",
              "  <button class=\"colab-df-quickchart\" onclick=\"quickchart('df-f26ace41-2cd6-4576-a307-3798d4964001')\"\n",
              "            title=\"Suggest charts\"\n",
              "            style=\"display:none;\">\n",
              "\n",
              "<svg xmlns=\"http://www.w3.org/2000/svg\" height=\"24px\"viewBox=\"0 0 24 24\"\n",
              "     width=\"24px\">\n",
              "    <g>\n",
              "        <path d=\"M19 3H5c-1.1 0-2 .9-2 2v14c0 1.1.9 2 2 2h14c1.1 0 2-.9 2-2V5c0-1.1-.9-2-2-2zM9 17H7v-7h2v7zm4 0h-2V7h2v10zm4 0h-2v-4h2v4z\"/>\n",
              "    </g>\n",
              "</svg>\n",
              "  </button>\n",
              "\n",
              "<style>\n",
              "  .colab-df-quickchart {\n",
              "      --bg-color: #E8F0FE;\n",
              "      --fill-color: #1967D2;\n",
              "      --hover-bg-color: #E2EBFA;\n",
              "      --hover-fill-color: #174EA6;\n",
              "      --disabled-fill-color: #AAA;\n",
              "      --disabled-bg-color: #DDD;\n",
              "  }\n",
              "\n",
              "  [theme=dark] .colab-df-quickchart {\n",
              "      --bg-color: #3B4455;\n",
              "      --fill-color: #D2E3FC;\n",
              "      --hover-bg-color: #434B5C;\n",
              "      --hover-fill-color: #FFFFFF;\n",
              "      --disabled-bg-color: #3B4455;\n",
              "      --disabled-fill-color: #666;\n",
              "  }\n",
              "\n",
              "  .colab-df-quickchart {\n",
              "    background-color: var(--bg-color);\n",
              "    border: none;\n",
              "    border-radius: 50%;\n",
              "    cursor: pointer;\n",
              "    display: none;\n",
              "    fill: var(--fill-color);\n",
              "    height: 32px;\n",
              "    padding: 0;\n",
              "    width: 32px;\n",
              "  }\n",
              "\n",
              "  .colab-df-quickchart:hover {\n",
              "    background-color: var(--hover-bg-color);\n",
              "    box-shadow: 0 1px 2px rgba(60, 64, 67, 0.3), 0 1px 3px 1px rgba(60, 64, 67, 0.15);\n",
              "    fill: var(--button-hover-fill-color);\n",
              "  }\n",
              "\n",
              "  .colab-df-quickchart-complete:disabled,\n",
              "  .colab-df-quickchart-complete:disabled:hover {\n",
              "    background-color: var(--disabled-bg-color);\n",
              "    fill: var(--disabled-fill-color);\n",
              "    box-shadow: none;\n",
              "  }\n",
              "\n",
              "  .colab-df-spinner {\n",
              "    border: 2px solid var(--fill-color);\n",
              "    border-color: transparent;\n",
              "    border-bottom-color: var(--fill-color);\n",
              "    animation:\n",
              "      spin 1s steps(1) infinite;\n",
              "  }\n",
              "\n",
              "  @keyframes spin {\n",
              "    0% {\n",
              "      border-color: transparent;\n",
              "      border-bottom-color: var(--fill-color);\n",
              "      border-left-color: var(--fill-color);\n",
              "    }\n",
              "    20% {\n",
              "      border-color: transparent;\n",
              "      border-left-color: var(--fill-color);\n",
              "      border-top-color: var(--fill-color);\n",
              "    }\n",
              "    30% {\n",
              "      border-color: transparent;\n",
              "      border-left-color: var(--fill-color);\n",
              "      border-top-color: var(--fill-color);\n",
              "      border-right-color: var(--fill-color);\n",
              "    }\n",
              "    40% {\n",
              "      border-color: transparent;\n",
              "      border-right-color: var(--fill-color);\n",
              "      border-top-color: var(--fill-color);\n",
              "    }\n",
              "    60% {\n",
              "      border-color: transparent;\n",
              "      border-right-color: var(--fill-color);\n",
              "    }\n",
              "    80% {\n",
              "      border-color: transparent;\n",
              "      border-right-color: var(--fill-color);\n",
              "      border-bottom-color: var(--fill-color);\n",
              "    }\n",
              "    90% {\n",
              "      border-color: transparent;\n",
              "      border-bottom-color: var(--fill-color);\n",
              "    }\n",
              "  }\n",
              "</style>\n",
              "\n",
              "  <script>\n",
              "    async function quickchart(key) {\n",
              "      const quickchartButtonEl =\n",
              "        document.querySelector('#' + key + ' button');\n",
              "      quickchartButtonEl.disabled = true;  // To prevent multiple clicks.\n",
              "      quickchartButtonEl.classList.add('colab-df-spinner');\n",
              "      try {\n",
              "        const charts = await google.colab.kernel.invokeFunction(\n",
              "            'suggestCharts', [key], {});\n",
              "      } catch (error) {\n",
              "        console.error('Error during call to suggestCharts:', error);\n",
              "      }\n",
              "      quickchartButtonEl.classList.remove('colab-df-spinner');\n",
              "      quickchartButtonEl.classList.add('colab-df-quickchart-complete');\n",
              "    }\n",
              "    (() => {\n",
              "      let quickchartButtonEl =\n",
              "        document.querySelector('#df-f26ace41-2cd6-4576-a307-3798d4964001 button');\n",
              "      quickchartButtonEl.style.display =\n",
              "        google.colab.kernel.accessAllowed ? 'block' : 'none';\n",
              "    })();\n",
              "  </script>\n",
              "</div>\n",
              "\n",
              "    </div>\n",
              "  </div>\n"
            ],
            "application/vnd.google.colaboratory.intrinsic+json": {
              "type": "dataframe",
              "variable_name": "selected_df",
              "summary": "{\n  \"name\": \"selected_df\",\n  \"rows\": 94380,\n  \"fields\": [\n    {\n      \"column\": \"Engine_soacking_time\",\n      \"properties\": {\n        \"dtype\": \"number\",\n        \"std\": 73,\n        \"min\": 0,\n        \"max\": 255,\n        \"num_unique_values\": 10,\n        \"samples\": [\n          235,\n          0,\n          255\n        ],\n        \"semantic_type\": \"\",\n        \"description\": \"\"\n      }\n    },\n    {\n      \"column\": \"Long_Term_Fuel_Trim_Bank1\",\n      \"properties\": {\n        \"dtype\": \"number\",\n        \"std\": 1.3627554590856483,\n        \"min\": -1.6,\n        \"max\": 10.2,\n        \"num_unique_values\": 16,\n        \"samples\": [\n          -0.8,\n          0.0,\n          4.7\n        ],\n        \"semantic_type\": \"\",\n        \"description\": \"\"\n      }\n    },\n    {\n      \"column\": \"Engine_coolant_temperature.1\",\n      \"properties\": {\n        \"dtype\": \"number\",\n        \"std\": 13,\n        \"min\": -40,\n        \"max\": 105,\n        \"num_unique_values\": 95,\n        \"samples\": [\n          35,\n          50,\n          39\n        ],\n        \"semantic_type\": \"\",\n        \"description\": \"\"\n      }\n    },\n    {\n      \"column\": \"Torque_of_friction\",\n      \"properties\": {\n        \"dtype\": \"number\",\n        \"std\": 2.2735302831373247,\n        \"min\": 0.0,\n        \"max\": 28.1,\n        \"num_unique_values\": 58,\n        \"samples\": [\n          9.0,\n          16.0,\n          8.6\n        ],\n        \"semantic_type\": \"\",\n        \"description\": \"\"\n      }\n    },\n    {\n      \"column\": \"Activation_of_Air_compressor\",\n      \"properties\": {\n        \"dtype\": \"number\",\n        \"std\": 0,\n        \"min\": 0,\n        \"max\": 1,\n        \"num_unique_values\": 2,\n        \"samples\": [\n          1,\n          0\n        ],\n        \"semantic_type\": \"\",\n        \"description\": \"\"\n      }\n    },\n    {\n      \"column\": \"Intake_air_pressure\",\n      \"properties\": {\n        \"dtype\": \"number\",\n        \"std\": 27,\n        \"min\": 0,\n        \"max\": 178,\n        \"num_unique_values\": 158,\n        \"samples\": [\n          140,\n          76\n        ],\n        \"semantic_type\": \"\",\n        \"description\": \"\"\n      }\n    },\n    {\n      \"column\": \"PathOrder\",\n      \"properties\": {\n        \"dtype\": \"number\",\n        \"std\": 0,\n        \"min\": 1,\n        \"max\": 2,\n        \"num_unique_values\": 2,\n        \"samples\": [\n          2,\n          1\n        ],\n        \"semantic_type\": \"\",\n        \"description\": \"\"\n      }\n    },\n    {\n      \"column\": \"Accelerator_Pedal_value\",\n      \"properties\": {\n        \"dtype\": \"number\",\n        \"std\": 8.505756429267798,\n        \"min\": 0.0,\n        \"max\": 99.2,\n        \"num_unique_values\": 223,\n        \"samples\": [\n          12.9,\n          27.7\n        ],\n        \"semantic_type\": \"\",\n        \"description\": \"\"\n      }\n    },\n    {\n      \"column\": \"Master_cylinder_pressure\",\n      \"properties\": {\n        \"dtype\": \"number\",\n        \"std\": 9.904240080909078,\n        \"min\": 0.0,\n        \"max\": 395.9,\n        \"num_unique_values\": 665,\n        \"samples\": [\n          22.3,\n          25.0\n        ],\n        \"semantic_type\": \"\",\n        \"description\": \"\"\n      }\n    },\n    {\n      \"column\": \"Vehicle_speed\",\n      \"properties\": {\n        \"dtype\": \"number\",\n        \"std\": 25,\n        \"min\": 0,\n        \"max\": 129,\n        \"num_unique_values\": 129,\n        \"samples\": [\n          57,\n          37\n        ],\n        \"semantic_type\": \"\",\n        \"description\": \"\"\n      }\n    },\n    {\n      \"column\": \"Engine_coolant_temperature\",\n      \"properties\": {\n        \"dtype\": \"number\",\n        \"std\": 6,\n        \"min\": -40,\n        \"max\": 96,\n        \"num_unique_values\": 89,\n        \"samples\": [\n          77,\n          35\n        ],\n        \"semantic_type\": \"\",\n        \"description\": \"\"\n      }\n    },\n    {\n      \"column\": \"Maximum_indicated_engine_torque\",\n      \"properties\": {\n        \"dtype\": \"number\",\n        \"std\": 9.576038285921886,\n        \"min\": 0.0,\n        \"max\": 91.4,\n        \"num_unique_values\": 101,\n        \"samples\": [\n          83.6,\n          57.8\n        ],\n        \"semantic_type\": \"\",\n        \"description\": \"\"\n      }\n    },\n    {\n      \"column\": \"Throttle_position_signal\",\n      \"properties\": {\n        \"dtype\": \"number\",\n        \"std\": 16.26224928520016,\n        \"min\": 0.0,\n        \"max\": 100.0,\n        \"num_unique_values\": 206,\n        \"samples\": [\n          20.7,\n          9.4\n        ],\n        \"semantic_type\": \"\",\n        \"description\": \"\"\n      }\n    },\n    {\n      \"column\": \"Current_Gear\",\n      \"properties\": {\n        \"dtype\": \"number\",\n        \"std\": 2,\n        \"min\": 0,\n        \"max\": 14,\n        \"num_unique_values\": 8,\n        \"samples\": [\n          14,\n          4\n        ],\n        \"semantic_type\": \"\",\n        \"description\": \"\"\n      }\n    },\n    {\n      \"column\": \"Calculated_LOAD_value\",\n      \"properties\": {\n        \"dtype\": \"number\",\n        \"std\": 18.389170011791766,\n        \"min\": 0.0,\n        \"max\": 98.4,\n        \"num_unique_values\": 225,\n        \"samples\": [\n          58.0,\n          45.5\n        ],\n        \"semantic_type\": \"\",\n        \"description\": \"\"\n      }\n    },\n    {\n      \"column\": \"Engine_torque_after_correction\",\n      \"properties\": {\n        \"dtype\": \"number\",\n        \"std\": 14.633545304194344,\n        \"min\": 0.0,\n        \"max\": 83.6,\n        \"num_unique_values\": 215,\n        \"samples\": [\n          69.9,\n          83.6\n        ],\n        \"semantic_type\": \"\",\n        \"description\": \"\"\n      }\n    },\n    {\n      \"column\": \"Engine_torque\",\n      \"properties\": {\n        \"dtype\": \"number\",\n        \"std\": 14.73396109701387,\n        \"min\": 0.0,\n        \"max\": 83.6,\n        \"num_unique_values\": 215,\n        \"samples\": [\n          79.7,\n          83.2\n        ],\n        \"semantic_type\": \"\",\n        \"description\": \"\"\n      }\n    },\n    {\n      \"column\": \"Class\",\n      \"properties\": {\n        \"dtype\": \"category\",\n        \"num_unique_values\": 10,\n        \"samples\": [\n          \"F\",\n          \"D\"\n        ],\n        \"semantic_type\": \"\",\n        \"description\": \"\"\n      }\n    },\n    {\n      \"column\": \"Time(s)\",\n      \"properties\": {\n        \"dtype\": \"number\",\n        \"std\": 683,\n        \"min\": 1,\n        \"max\": 2948,\n        \"num_unique_values\": 2948,\n        \"samples\": [\n          566,\n          1221\n        ],\n        \"semantic_type\": \"\",\n        \"description\": \"\"\n      }\n    }\n  ]\n}"
            }
          },
          "metadata": {},
          "execution_count": 11
        }
      ],
      "source": [
        "selected_df.head()"
      ]
    },
    {
      "cell_type": "code",
      "execution_count": null,
      "metadata": {
        "id": "a429e2c2"
      },
      "outputs": [],
      "source": [
        "# df_train, df_test = split_dataset(selected_df, 0.8)"
      ]
    },
    {
      "cell_type": "code",
      "execution_count": null,
      "metadata": {
        "id": "c2b48e92"
      },
      "outputs": [],
      "source": [
        "\n",
        "def driver_dataframe_using_window_size(df, path_order, driver, window_size=60):\n",
        "    \"\"\"\n",
        "    Extracts and processes the DataFrame for a specific driver and path order,\n",
        "    and calculates rolling statistics with the specified window size.\n",
        "\n",
        "    Parameters:\n",
        "    df (DataFrame): The original DataFrame.\n",
        "    path_order (int): The path order identifier.\n",
        "    driver (str): The driver class identifier.\n",
        "    window_size (int): The size of the rolling window.\n",
        "\n",
        "    Returns:\n",
        "    DataFrame: Processed DataFrame for the specified driver and path order with\n",
        "               rolling statistics concatenated to the original features.\n",
        "    \"\"\"\n",
        "\n",
        "    # Filter the DataFrame for the specific driver and path order\n",
        "    driver_df = df[df['PathOrder'] == path_order]\n",
        "    driver_df = driver_df[driver_df['Class'] == driver]\n",
        "\n",
        "\n",
        "    # Drop the 'Class' and 'PathOrder' columns\n",
        "    time = driver_df['Time(s)']\n",
        "    driver_df.drop(columns=['Class', 'PathOrder', 'Time(s)'], inplace=True)\n",
        "\n",
        "\n",
        "    # Calculate rolling statistics\n",
        "    rolling_mean = driver_df.rolling(window=window_size).mean().add_suffix('_mean')\n",
        "    rolling_median = driver_df.rolling(window=window_size).median().add_suffix('_median')\n",
        "    rolling_std = driver_df.rolling(window=window_size).std().add_suffix('_std')\n",
        "#     rolling_var = driver_df.rolling(window=window_size).var().add_suffix('_var')\n",
        "#     rolling_min = driver_df.rolling(window=window_size).min().add_suffix('_min')\n",
        "#     rolling_max = driver_df.rolling(window=window_size).max().add_suffix('_max')\n",
        "\n",
        "    # Concatenate the original features with the rolling statistics\n",
        "    # , rolling_var, rolling_min, rolling_max\n",
        "    driver_df = pd.concat([driver_df, rolling_mean, rolling_median, rolling_std], axis=1)\n",
        "    driver_df['Time(s)'] = time\n",
        "    # Drop the first 'window_size' rows to make the concatenation match\n",
        "    driver_df = driver_df.iloc[window_size-1:]\n",
        "\n",
        "    return driver_df\n"
      ]
    },
    {
      "cell_type": "code",
      "execution_count": null,
      "metadata": {
        "id": "b664499c"
      },
      "outputs": [],
      "source": [
        "def prepare_all_drivers(df, random_seed=123):\n",
        "    \"\"\"\n",
        "    Prepares the dataset by processing each driver's data and calculating rolling statistics for each feature.\n",
        "\n",
        "    Parameters:\n",
        "    df (DataFrame): The original DataFrame.\n",
        "    random_seed (int): The seed for the random number generator (default is 123).\n",
        "\n",
        "    Returns:\n",
        "    DataFrame: Processed DataFrame with rolling statistics and necessary columns for all drivers.\n",
        "    \"\"\"\n",
        "\n",
        "    # Set the random seed for reproducibility\n",
        "    np.random.seed(random_seed)\n",
        "\n",
        "    # Create a copy of the original DataFrame to ensure the original data is not altered\n",
        "    df_copy = df.copy()\n",
        "\n",
        "    # List to hold individual DataFrames for each driver and path\n",
        "    df_temp = []\n",
        "\n",
        "    # Nested loops to process each path and driver\n",
        "    for path in df_copy['PathOrder'].unique():\n",
        "        for driver in df_copy['Class'].unique():\n",
        "            # Process the DataFrame for the specific driver and path using window size\n",
        "            driver_df = driver_dataframe_using_window_size(df_copy, path, driver)\n",
        "            driver_df['PathOrder'] = path  # Add PathOrder column\n",
        "            driver_df['Class'] = driver    # Add Class column\n",
        "\n",
        "            # Append the processed DataFrame to the list\n",
        "            df_temp.append(driver_df)\n",
        "\n",
        "    # Concatenate all individual DataFrames into a single DataFrame\n",
        "    all_drivers = pd.concat(df_temp, ignore_index=True)\n",
        "\n",
        "    return all_drivers"
      ]
    },
    {
      "cell_type": "code",
      "execution_count": null,
      "metadata": {
        "id": "cc6ec36c"
      },
      "outputs": [],
      "source": [
        "train_data = prepare_all_drivers(selected_df)"
      ]
    },
    {
      "cell_type": "markdown",
      "metadata": {
        "id": "tOOWinbFObPB"
      },
      "source": [
        "### Data Preprocessing"
      ]
    },
    {
      "cell_type": "code",
      "execution_count": null,
      "metadata": {
        "id": "Un0WuLYkObPE"
      },
      "outputs": [],
      "source": [
        "deriver_d_path1 = train_data[(train_data['Class']==\"D\") & (train_data['PathOrder']==1) ]\n",
        "deriver_d_path2 = train_data[(train_data['Class']==\"D\") & (train_data['PathOrder']==2) ]"
      ]
    },
    {
      "cell_type": "code",
      "source": [
        "combined_data = pd.concat([deriver_d_path1, deriver_d_path2])\n",
        "\n"
      ],
      "metadata": {
        "id": "5BTtWE9l370D"
      },
      "execution_count": null,
      "outputs": []
    },
    {
      "cell_type": "code",
      "execution_count": null,
      "metadata": {
        "id": "3L-08mF4ObPF"
      },
      "outputs": [],
      "source": [
        "deriver_d_path1.drop(columns=['Time(s)', 'PathOrder', 'Class'], inplace=True)\n",
        "deriver_d_path2.drop(columns=['Time(s)', 'PathOrder', 'Class'], inplace=True)"
      ]
    },
    {
      "cell_type": "code",
      "source": [
        "from sklearn.preprocessing import MinMaxScaler\n",
        "\n",
        "# Assuming deriver_d_path1 and deriver_d_path2 are numpy arrays or pandas DataFrames\n",
        "\n",
        "# Initialize StandardScaler\n",
        "scaler = MinMaxScaler()\n",
        "\n",
        "# Fit and transform on deriver_d_path1\n",
        "deriver_d_path1 = scaler.fit_transform(deriver_d_path1)\n",
        "\n",
        "#Fit and Transform on deriver_d_path2\n",
        "deriver_d_path2 = scaler.fit_transform(deriver_d_path2)\n"
      ],
      "metadata": {
        "id": "oLb0I5qts_EN"
      },
      "execution_count": null,
      "outputs": []
    },
    {
      "cell_type": "code",
      "execution_count": null,
      "metadata": {
        "id": "4_VZaze7ObPI"
      },
      "outputs": [],
      "source": [
        "one_deriver_data_path1 = deriver_d_path1\n",
        "one_deriver_data_path2 = deriver_d_path2"
      ]
    },
    {
      "cell_type": "code",
      "execution_count": null,
      "metadata": {
        "id": "cDj96nm8ObPK"
      },
      "outputs": [],
      "source": [
        "class TimeSeriesDataset(Dataset):\n",
        "    def __init__(self, data, sequence_length):\n",
        "        self.data = np.array(data,dtype=float)\n",
        "        self.sequence_length = sequence_length\n",
        "\n",
        "    def __len__(self):\n",
        "        return len(self.data) - self.sequence_length\n",
        "\n",
        "    def __getitem__(self, idx):\n",
        "        return self.data[idx:idx+self.sequence_length]"
      ]
    },
    {
      "cell_type": "code",
      "execution_count": null,
      "metadata": {
        "id": "D2onqMlOObPL"
      },
      "outputs": [],
      "source": [
        "sequence_length = 60\n",
        "dataset_path1 = TimeSeriesDataset(one_deriver_data_path1, sequence_length)\n",
        "dataset_path2 = TimeSeriesDataset(one_deriver_data_path2, sequence_length)\n",
        "concatenated_data = ConcatDataset([dataset_path1, dataset_path2])\n",
        "dataloader = DataLoader(concatenated_data, batch_size=32, shuffle=True)\n"
      ]
    },
    {
      "cell_type": "code",
      "source": [
        "np.array(concatenated_data).shape"
      ],
      "metadata": {
        "colab": {
          "base_uri": "https://localhost:8080/"
        },
        "id": "7WZVdWnag0-U",
        "outputId": "be287abf-59f8-40e5-9fef-6e79112c5466"
      },
      "execution_count": null,
      "outputs": [
        {
          "output_type": "execute_result",
          "data": {
            "text/plain": [
              "(13006, 60, 64)"
            ]
          },
          "metadata": {},
          "execution_count": 22
        }
      ]
    },
    {
      "cell_type": "code",
      "source": [
        "np.array(concatenated_data).shape"
      ],
      "metadata": {
        "colab": {
          "base_uri": "https://localhost:8080/"
        },
        "id": "8We7i3uxeAG5",
        "outputId": "750db3fb-0455-4cb1-ec96-c9dba3a05f12"
      },
      "execution_count": null,
      "outputs": [
        {
          "output_type": "execute_result",
          "data": {
            "text/plain": [
              "(13006, 60, 64)"
            ]
          },
          "metadata": {},
          "execution_count": 23
        }
      ]
    },
    {
      "cell_type": "markdown",
      "metadata": {
        "id": "rgtUr9nKObPM"
      },
      "source": [
        "### Modeling"
      ]
    },
    {
      "cell_type": "code",
      "execution_count": null,
      "metadata": {
        "id": "VqSQfT02ObPN"
      },
      "outputs": [],
      "source": [
        "class ComplexTimeSeriesAutoencoder(nn.Module):\n",
        "    def __init__(self, input_dim, latent_dim, sequence_lengt):\n",
        "        super().__init__()\n",
        "\n",
        "        # Define the CNN Encoder\n",
        "        self.cnn_encoder = nn.Sequential(\n",
        "            nn.Conv1d(in_channels=input_dim, out_channels=32, kernel_size=3, padding=1),\n",
        "            nn.ReLU(),\n",
        "            nn.Conv1d(in_channels=32, out_channels=64, kernel_size=3, padding=1),\n",
        "            nn.ReLU()\n",
        "        )\n",
        "\n",
        "        # Define the LSTM Encoder\n",
        "        self.lstm_encoder = nn.LSTM(input_size=64, hidden_size=latent_dim, batch_first=True)\n",
        "\n",
        "        # Define the LSTM Decoder\n",
        "        self.lstm_decoder = nn.LSTM(input_size=latent_dim, hidden_size=64, batch_first=True)\n",
        "\n",
        "        # Define the CNN Decoder\n",
        "        self.cnn_decoder = nn.Sequential(\n",
        "            nn.ConvTranspose1d(in_channels=64, out_channels=32, kernel_size=3, padding=1),\n",
        "            nn.ReLU(),\n",
        "            nn.ConvTranspose1d(in_channels=32, out_channels=input_dim, kernel_size=3, padding=1),\n",
        "            nn.ReLU()\n",
        "        )\n",
        "\n",
        "    def forward(self, x):\n",
        "        # Pass the input through the CNN Encoder\n",
        "        x = x.permute(0, 2, 1)  # Change shape to (batch_size, input_dim, sequence_length) for CNN\n",
        "        x = self.cnn_encoder(x)\n",
        "        x = x.permute(0, 2, 1)  # Change shape to (batch_size, sequence_length, num_channels) for LSTM\n",
        "\n",
        "        # Pass through the LSTM Encoder\n",
        "        x, _ = self.lstm_encoder(x)\n",
        "\n",
        "        # Pass through the LSTM Decoder\n",
        "        x, _ = self.lstm_decoder(x)\n",
        "\n",
        "        # Pass through the CNN Decoder\n",
        "        x = x.permute(0, 2, 1)  # Change shape to (batch_size, num_channels, sequence_length) for CNN\n",
        "        x = self.cnn_decoder(x)\n",
        "        x = x.permute(0, 2, 1)  # Change shape back to (batch_size, sequence_length, input_dim)\n",
        "\n",
        "        return x"
      ]
    },
    {
      "cell_type": "code",
      "execution_count": null,
      "metadata": {
        "colab": {
          "base_uri": "https://localhost:8080/"
        },
        "id": "bYev3WsjObPQ",
        "outputId": "ba89fde8-84fd-4b9c-dcd4-6d32db433c29"
      },
      "outputs": [
        {
          "output_type": "execute_result",
          "data": {
            "text/plain": [
              "(6005, 64)"
            ]
          },
          "metadata": {},
          "execution_count": 25
        }
      ],
      "source": [
        "one_deriver_data_path1.shape"
      ]
    },
    {
      "cell_type": "code",
      "execution_count": null,
      "metadata": {
        "id": "_YM3qMt-ObPR"
      },
      "outputs": [],
      "source": [
        "input_dim = one_deriver_data_path1.shape[1]\n",
        "latent_dim = 20\n",
        "model = ComplexTimeSeriesAutoencoder(input_dim, latent_dim, sequence_length).to(device)"
      ]
    },
    {
      "cell_type": "code",
      "execution_count": null,
      "metadata": {
        "colab": {
          "base_uri": "https://localhost:8080/",
          "height": 372
        },
        "id": "UPU9z8LXObPT",
        "outputId": "41d34ec1-bd57-477c-deb9-2f53a00136a1"
      },
      "outputs": [
        {
          "output_type": "error",
          "ename": "RuntimeError",
          "evalue": "cudnn RNN backward can only be called in training mode",
          "traceback": [
            "\u001b[0;31m---------------------------------------------------------------------------\u001b[0m",
            "\u001b[0;31mRuntimeError\u001b[0m                              Traceback (most recent call last)",
            "\u001b[0;32m<ipython-input-38-7e7ee9e35caa>\u001b[0m in \u001b[0;36m<cell line: 6>\u001b[0;34m()\u001b[0m\n\u001b[1;32m     10\u001b[0m         \u001b[0mloss\u001b[0m \u001b[0;34m=\u001b[0m \u001b[0mcriterion\u001b[0m\u001b[0;34m(\u001b[0m\u001b[0moutputs\u001b[0m\u001b[0;34m,\u001b[0m \u001b[0mbatch\u001b[0m\u001b[0;34m)\u001b[0m\u001b[0;34m\u001b[0m\u001b[0;34m\u001b[0m\u001b[0m\n\u001b[1;32m     11\u001b[0m         \u001b[0moptimizer\u001b[0m\u001b[0;34m.\u001b[0m\u001b[0mzero_grad\u001b[0m\u001b[0;34m(\u001b[0m\u001b[0;34m)\u001b[0m\u001b[0;34m\u001b[0m\u001b[0;34m\u001b[0m\u001b[0m\n\u001b[0;32m---> 12\u001b[0;31m         \u001b[0mloss\u001b[0m\u001b[0;34m.\u001b[0m\u001b[0mbackward\u001b[0m\u001b[0;34m(\u001b[0m\u001b[0;34m)\u001b[0m\u001b[0;34m\u001b[0m\u001b[0;34m\u001b[0m\u001b[0m\n\u001b[0m\u001b[1;32m     13\u001b[0m         \u001b[0moptimizer\u001b[0m\u001b[0;34m.\u001b[0m\u001b[0mstep\u001b[0m\u001b[0;34m(\u001b[0m\u001b[0;34m)\u001b[0m\u001b[0;34m\u001b[0m\u001b[0;34m\u001b[0m\u001b[0m\n\u001b[1;32m     14\u001b[0m     \u001b[0mprint\u001b[0m\u001b[0;34m(\u001b[0m\u001b[0;34mf'Epoch [{epoch+1}/{num_epochs}], Loss: {loss.item():.4f}'\u001b[0m\u001b[0;34m)\u001b[0m\u001b[0;34m\u001b[0m\u001b[0;34m\u001b[0m\u001b[0m\n",
            "\u001b[0;32m/usr/local/lib/python3.10/dist-packages/torch/_tensor.py\u001b[0m in \u001b[0;36mbackward\u001b[0;34m(self, gradient, retain_graph, create_graph, inputs)\u001b[0m\n\u001b[1;32m    523\u001b[0m                 \u001b[0minputs\u001b[0m\u001b[0;34m=\u001b[0m\u001b[0minputs\u001b[0m\u001b[0;34m,\u001b[0m\u001b[0;34m\u001b[0m\u001b[0;34m\u001b[0m\u001b[0m\n\u001b[1;32m    524\u001b[0m             )\n\u001b[0;32m--> 525\u001b[0;31m         torch.autograd.backward(\n\u001b[0m\u001b[1;32m    526\u001b[0m             \u001b[0mself\u001b[0m\u001b[0;34m,\u001b[0m \u001b[0mgradient\u001b[0m\u001b[0;34m,\u001b[0m \u001b[0mretain_graph\u001b[0m\u001b[0;34m,\u001b[0m \u001b[0mcreate_graph\u001b[0m\u001b[0;34m,\u001b[0m \u001b[0minputs\u001b[0m\u001b[0;34m=\u001b[0m\u001b[0minputs\u001b[0m\u001b[0;34m\u001b[0m\u001b[0;34m\u001b[0m\u001b[0m\n\u001b[1;32m    527\u001b[0m         )\n",
            "\u001b[0;32m/usr/local/lib/python3.10/dist-packages/torch/autograd/__init__.py\u001b[0m in \u001b[0;36mbackward\u001b[0;34m(tensors, grad_tensors, retain_graph, create_graph, grad_variables, inputs)\u001b[0m\n\u001b[1;32m    265\u001b[0m     \u001b[0;31m# some Python versions print out the first line of a multi-line function\u001b[0m\u001b[0;34m\u001b[0m\u001b[0;34m\u001b[0m\u001b[0m\n\u001b[1;32m    266\u001b[0m     \u001b[0;31m# calls in the traceback and some print out the last line\u001b[0m\u001b[0;34m\u001b[0m\u001b[0;34m\u001b[0m\u001b[0m\n\u001b[0;32m--> 267\u001b[0;31m     _engine_run_backward(\n\u001b[0m\u001b[1;32m    268\u001b[0m         \u001b[0mtensors\u001b[0m\u001b[0;34m,\u001b[0m\u001b[0;34m\u001b[0m\u001b[0;34m\u001b[0m\u001b[0m\n\u001b[1;32m    269\u001b[0m         \u001b[0mgrad_tensors_\u001b[0m\u001b[0;34m,\u001b[0m\u001b[0;34m\u001b[0m\u001b[0;34m\u001b[0m\u001b[0m\n",
            "\u001b[0;32m/usr/local/lib/python3.10/dist-packages/torch/autograd/graph.py\u001b[0m in \u001b[0;36m_engine_run_backward\u001b[0;34m(t_outputs, *args, **kwargs)\u001b[0m\n\u001b[1;32m    742\u001b[0m         \u001b[0munregister_hooks\u001b[0m \u001b[0;34m=\u001b[0m \u001b[0m_register_logging_hooks_on_whole_graph\u001b[0m\u001b[0;34m(\u001b[0m\u001b[0mt_outputs\u001b[0m\u001b[0;34m)\u001b[0m\u001b[0;34m\u001b[0m\u001b[0;34m\u001b[0m\u001b[0m\n\u001b[1;32m    743\u001b[0m     \u001b[0;32mtry\u001b[0m\u001b[0;34m:\u001b[0m\u001b[0;34m\u001b[0m\u001b[0;34m\u001b[0m\u001b[0m\n\u001b[0;32m--> 744\u001b[0;31m         return Variable._execution_engine.run_backward(  # Calls into the C++ engine to run the backward pass\n\u001b[0m\u001b[1;32m    745\u001b[0m             \u001b[0mt_outputs\u001b[0m\u001b[0;34m,\u001b[0m \u001b[0;34m*\u001b[0m\u001b[0margs\u001b[0m\u001b[0;34m,\u001b[0m \u001b[0;34m**\u001b[0m\u001b[0mkwargs\u001b[0m\u001b[0;34m\u001b[0m\u001b[0;34m\u001b[0m\u001b[0m\n\u001b[1;32m    746\u001b[0m         )  # Calls into the C++ engine to run the backward pass\n",
            "\u001b[0;31mRuntimeError\u001b[0m: cudnn RNN backward can only be called in training mode"
          ]
        }
      ],
      "source": [
        "num_epochs = 400\n",
        "learning_rate = 0.001\n",
        "criterion = nn.MSELoss()\n",
        "optimizer = optim.Adam(model.parameters(), lr=learning_rate)\n",
        "\n",
        "for epoch in range(num_epochs):\n",
        "    for batch in dataloader:\n",
        "        batch = batch.float().to(device)\n",
        "        outputs = model(batch)\n",
        "        loss = criterion(outputs, batch)\n",
        "        optimizer.zero_grad()\n",
        "        loss.backward()\n",
        "        optimizer.step()\n",
        "    print(f'Epoch [{epoch+1}/{num_epochs}], Loss: {loss.item():.4f}')"
      ]
    },
    {
      "cell_type": "code",
      "source": [
        "# torch.save(model.state_dict(), 'complex_time_series_autoencoder.pth')"
      ],
      "metadata": {
        "id": "0ZmSyOiBh_DC"
      },
      "execution_count": null,
      "outputs": []
    },
    {
      "cell_type": "markdown",
      "source": [],
      "metadata": {
        "id": "O8cANF-bzxZT"
      }
    },
    {
      "cell_type": "code",
      "source": [
        "sequence_length = 60\n",
        "dataset_path1 = TimeSeriesDataset(one_deriver_data_path1, sequence_length)\n",
        "dataset_path2 = TimeSeriesDataset(one_deriver_data_path2, sequence_length)\n",
        "concatenated_data = ConcatDataset([dataset_path1, dataset_path2])\n",
        "dataloader = DataLoader(concatenated_data, batch_size=1, shuffle=True)\n"
      ],
      "metadata": {
        "id": "Mza-iYrxumlW"
      },
      "execution_count": null,
      "outputs": []
    },
    {
      "cell_type": "code",
      "execution_count": null,
      "metadata": {
        "id": "HLAKhKGYObPY"
      },
      "outputs": [],
      "source": [
        "def calculate_reconstruction_error(model, dataloader):\n",
        "    model.eval()\n",
        "    errors = []\n",
        "    with torch.no_grad():\n",
        "        for batch in dataloader:\n",
        "            batch = batch.float().to(device)\n",
        "            outputs = model(batch)\n",
        "            loss = criterion(outputs, batch)\n",
        "            errors.append(loss.item())\n",
        "    return errors\n",
        "\n",
        "validation_errors = calculate_reconstruction_error(model, dataloader)\n",
        "# threshold = np.mean(validation_errors) + 3 * np.std(validation_errors)\n",
        "# print(f'Reconstruction error threshold: {threshold:.4f}')"
      ]
    },
    {
      "cell_type": "markdown",
      "metadata": {
        "id": "CGbD9eEfObPZ"
      },
      "source": [
        "### Evaluate the model"
      ]
    },
    {
      "cell_type": "code",
      "source": [
        "np.array(validation_errors).shape"
      ],
      "metadata": {
        "colab": {
          "base_uri": "https://localhost:8080/"
        },
        "id": "ZQ4WRj8ke5Yd",
        "outputId": "d713da9a-156d-4649-9f96-cdc0a85ec9f2"
      },
      "execution_count": null,
      "outputs": [
        {
          "output_type": "execute_result",
          "data": {
            "text/plain": [
              "(13006,)"
            ]
          },
          "metadata": {},
          "execution_count": 31
        }
      ]
    },
    {
      "cell_type": "code",
      "source": [
        "threshold = np.quantile(np.array(validation_errors), 0.95)"
      ],
      "metadata": {
        "id": "bflXh_5ZZ1Q0"
      },
      "execution_count": null,
      "outputs": []
    },
    {
      "cell_type": "code",
      "source": [
        "threshold"
      ],
      "metadata": {
        "colab": {
          "base_uri": "https://localhost:8080/"
        },
        "id": "74v6MlmbaAPB",
        "outputId": "75186c5a-301a-4fb5-c814-a1f37ece9435"
      },
      "execution_count": null,
      "outputs": [
        {
          "output_type": "execute_result",
          "data": {
            "text/plain": [
              "0.004577435087412596"
            ]
          },
          "metadata": {},
          "execution_count": 33
        }
      ]
    },
    {
      "cell_type": "code",
      "source": [
        "plt.boxplot(validation_errors)\n",
        "plt.show()"
      ],
      "metadata": {
        "colab": {
          "base_uri": "https://localhost:8080/",
          "height": 430
        },
        "id": "k-iVqBMmcDPn",
        "outputId": "2837d512-0c52-4325-c640-20ecd9b21706"
      },
      "execution_count": null,
      "outputs": [
        {
          "output_type": "display_data",
          "data": {
            "text/plain": [
              "<Figure size 640x480 with 1 Axes>"
            ],
            "image/png": "[encoded data removed]"
          },
          "metadata": {}
        }
      ]
    },
    {
      "cell_type": "code",
      "execution_count": null,
      "metadata": {
        "id": "A7uyKT4WObPe"
      },
      "outputs": [],
      "source": [
        "def evalute_per_class():\n",
        "    deriver_classes = selected_df['Class'].unique()\n",
        "    for deriver_cls in deriver_classes:\n",
        "        test_data_one_deriver_1 = train_data[(train_data['Class']==deriver_cls) & (train_data['PathOrder']==1) ]\n",
        "        test_data_one_deriver_2 = train_data[(train_data['Class']==deriver_cls) & (train_data['PathOrder']==2) ]\n",
        "        test_data_one_deriver_1.drop(columns=['Time(s)', 'PathOrder', 'Class'], inplace=True)\n",
        "        test_data_one_deriver_2.drop(columns=['Time(s)', 'PathOrder', 'Class'], inplace=True)\n",
        "        test_data_one_deriver_1 = scaler.fit_transform(test_data_one_deriver_1)\n",
        "        test_data_one_deriver_2 = scaler.fit_transform(test_data_one_deriver_2)\n",
        "        test_dataset_path2 = TimeSeriesDataset(test_data_one_deriver_2, sequence_length)\n",
        "        test_dataset_path1 = TimeSeriesDataset(test_data_one_deriver_1, sequence_length)\n",
        "        concatenated_data = ConcatDataset([test_dataset_path1, test_dataset_path2])\n",
        "        test_dataloader = DataLoader(concatenated_data, batch_size=1, shuffle=True)\n",
        "        anomalies_cnt = 0\n",
        "        with torch.no_grad():\n",
        "            for batch in test_dataloader:\n",
        "                batch = batch.float().to(device)\n",
        "                outputs = model(batch)\n",
        "                loss = criterion(outputs, batch)\n",
        "                if loss.item() > threshold:\n",
        "                    anomalies_cnt += 1\n",
        "        print(f\"class {deriver_cls}  acc: {anomalies_cnt/(len(test_data_one_deriver_1)+len(test_data_one_deriver_2))}\")\n"
      ]
    },
    {
      "cell_type": "code",
      "execution_count": null,
      "metadata": {
        "colab": {
          "base_uri": "https://localhost:8080/"
        },
        "id": "gv1huuWFObPf",
        "outputId": "b959c5a4-6efc-434f-e57c-d3995160b9c5"
      },
      "outputs": [
        {
          "output_type": "stream",
          "name": "stdout",
          "text": [
            "class A  acc: 0.983150800336984\n",
            "class D  acc: 0.04959622124028645\n",
            "class B  acc: 0.8951043464616351\n",
            "class C  acc: 0.8161744784611217\n",
            "class I  acc: 0.9725617685305592\n",
            "class J  acc: 0.9863419075802413\n",
            "class H  acc: 0.9522638803523868\n",
            "class G  acc: 0.979522647138595\n",
            "class F  acc: 0.9569487791444832\n",
            "class E  acc: 0.9855734551574897\n"
          ]
        }
      ],
      "source": [
        "evalute_per_class()"
      ]
    },
    {
      "cell_type": "code",
      "source": [],
      "metadata": {
        "id": "4Da6-5jGpI5P"
      },
      "execution_count": null,
      "outputs": []
    }
  ],
  "metadata": {
    "kernelspec": {
      "display_name": "Python 3",
      "name": "python3"
    },
    "language_info": {
      "codemirror_mode": {
        "name": "ipython",
        "version": 3
      },
      "file_extension": ".py",
      "mimetype": "text/x-python",
      "name": "python",
      "nbconvert_exporter": "python",
      "pygments_lexer": "ipython3",
      "version": "3.11.5"
    },
    "colab": {
      "provenance": [],
      "gpuType": "T4"
    },
    "accelerator": "GPU"
  },
  "nbformat": 4,
  "nbformat_minor": 0
}